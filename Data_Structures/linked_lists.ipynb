{
 "cells": [
  {
   "cell_type": "code",
   "execution_count": 53,
   "metadata": {},
   "outputs": [],
   "source": [
    "#Create Node for Linked List\n",
    "class Node:\n",
    "    \"\"\"\n",
    "    A class to represent a node in a linked list.\n",
    "    \n",
    "    Attributes:\n",
    "    -----------\n",
    "    value : any\n",
    "        The data stored in the node.\n",
    "    next : Node or None\n",
    "        A pointer to the next node in the list (default is None).\n",
    "    \"\"\"\n",
    "    def __init__(self, value):\n",
    "        # Initialize a new Node with the given value. The 'next' pointer is set to None by default.\n",
    "        self.value = value\n",
    "        self.next = None"
   ]
  },
  {
   "cell_type": "code",
   "execution_count": 72,
   "metadata": {},
   "outputs": [],
   "source": [
    "# Constructor for Linked List\n",
    "\n",
    "class LinkedList:\n",
    "    \"\"\"\n",
    "    A class to represent a singly linked list.\n",
    "\n",
    "    Attributes:\n",
    "    -----------\n",
    "    head : Node\n",
    "        The first node of the linked list.\n",
    "    tail : Node\n",
    "        The last node of the linked list.\n",
    "    length : int\n",
    "        The number of nodes in the linked list.\n",
    "\n",
    "    Methods:\n",
    "    --------\n",
    "    append(value):\n",
    "        Appends a node with the given value to the end of the linked list.\n",
    "    pop():\n",
    "        Removes and returns the last node in the linked list.\n",
    "    prepend(value):\n",
    "        Adds a node with the given value to the beginning of the linked list.\n",
    "    \"\"\"\n",
    "\n",
    "    def __init__(self, value):\n",
    "        \"\"\"\n",
    "        Constructor to initialize a new LinkedList with an initial value.\n",
    "        \n",
    "        Parameters:\n",
    "        -----------\n",
    "        value : any\n",
    "            The data for the first node in the linked list.\n",
    "        \"\"\"\n",
    "        # Create a new node using the given value and assign it to both the head and tail of the list.\n",
    "        new_node = Node(value)\n",
    "        self.head = new_node  # Head points to the first node\n",
    "        self.tail = new_node  # Tail also points to the first node, as there is only one node\n",
    "        self.length = 1  # Initialize the list with a length of 1 since we added one node\n",
    "\n",
    "    def append(self, value):\n",
    "        \"\"\"\n",
    "        Appends a node with the given value to the end of the linked list.\n",
    "        \n",
    "        Parameters:\n",
    "        -----------\n",
    "        value : any\n",
    "            The data for the new node to be added to the list.\n",
    "        \n",
    "        Returns:\n",
    "        --------\n",
    "        bool\n",
    "            True if the operation was successful.\n",
    "        \"\"\"\n",
    "        # Create a new node with the provided value\n",
    "        node = Node(value)\n",
    "        # If the list is empty (head is None), set both head and tail to the new node\n",
    "        if self.head is None:\n",
    "            self.head = node\n",
    "            self.tail = self.head\n",
    "        else:\n",
    "            # Otherwise, set the current tail's next to the new node and update the tail\n",
    "            self.tail.next = node\n",
    "            self.tail = node\n",
    "        self.length += 1  # Increment the length of the linked list\n",
    "        return True  # Return True to indicate the operation was successful\n",
    "\n",
    "    def pop(self):\n",
    "        \"\"\"\n",
    "        Removes and returns the last node from the linked list.\n",
    "        \n",
    "        Returns:\n",
    "        --------\n",
    "        Node or None\n",
    "            The last node in the list, or None if the list is empty.\n",
    "        \"\"\"\n",
    "        # If the list is empty, there is nothing to pop, so return None\n",
    "        if self.length == 0:\n",
    "            return None\n",
    "\n",
    "        # Start with the head of the list and use temp to traverse the list\n",
    "        temp = self.head\n",
    "        pre = self.head\n",
    "\n",
    "        # Traverse the list to find the second-to-last node (pre)\n",
    "        while temp.next is not None:\n",
    "            pre = temp  # pre is set to the current node (before temp moves to the next node)\n",
    "            temp = temp.next  # temp moves to the next node\n",
    "\n",
    "        # After the loop, temp will be the last node and pre will be the second-to-last\n",
    "        self.tail = pre  # Update the tail to be the second-to-last node\n",
    "        self.tail.next = None  # Set the new tail's next to None (indicating the end of the list)\n",
    "        self.length -= 1  # Decrease the length by 1 since we're removing a node\n",
    "\n",
    "        # If the list now has zero nodes, set both head and tail to None\n",
    "        if self.length == 0:\n",
    "            self.head = None\n",
    "            self.tail = None\n",
    "\n",
    "        return temp  # Return the last node that was removed\n",
    "\n",
    "    def prepend(self, value):\n",
    "        \"\"\"\n",
    "        Adds a node with the given value to the beginning of the linked list.\n",
    "        \n",
    "        Parameters:\n",
    "        -----------\n",
    "        value : any\n",
    "            The data for the new node to be added at the start of the list.\n",
    "        \n",
    "        Returns:\n",
    "        --------\n",
    "        bool\n",
    "            True if the operation was successful.\n",
    "        \"\"\"\n",
    "        # Create a new node with the provided value\n",
    "        node = Node(value)\n",
    "        # If the list is empty, set both the head and tail to the new node\n",
    "        if self.length == 0:\n",
    "            self.head = node\n",
    "            self.tail = node\n",
    "        else:\n",
    "            # Otherwise, insert the new node at the beginning by pointing its next to the current head\n",
    "            node.next = self.head\n",
    "            self.head = node  # Update the head to be the new node\n",
    "        self.length += 1  # Increment the length of the linked list\n",
    "        return True  # Return True to indicate the operation was successful\n",
    "    \n",
    "    def pop_first(self):\n",
    "    \"\"\"\n",
    "    Removes and returns the first node (head) from the linked list.\n",
    "\n",
    "    If the list is empty, returns None. If the list contains only one node, \n",
    "    both head and tail are set to None after popping the node.\n",
    "\n",
    "    Returns:\n",
    "    --------\n",
    "    Node or None\n",
    "        The first node that was removed, or None if the list was empty.\n",
    "    \"\"\"\n",
    "        # If the list is empty, return None\n",
    "        if self.length == 0:\n",
    "            return None\n",
    "\n",
    "        # Store the current head to return later\n",
    "        temp = self.head\n",
    "\n",
    "        # If there is only one node, set both head and tail to None\n",
    "        if self.length == 1:\n",
    "            self.head = None\n",
    "            self.tail = None\n",
    "        else:\n",
    "            # Move the head to the next node\n",
    "            self.head = temp.next\n",
    "\n",
    "        # Reduce the length of the list\n",
    "        self.length -= 1\n",
    "        \n",
    "        # Return the original head node\n",
    "        return temp\n",
    "        "
   ]
  },
  {
   "cell_type": "code",
   "execution_count": 73,
   "metadata": {},
   "outputs": [],
   "source": [
    "def visualize(my_linked_list):\n",
    "    \"\"\"\n",
    "    Visualizes the linked list by printing its contents in a string format.\n",
    "\n",
    "    The function traverses the linked list starting from the head and builds a string \n",
    "    representation where each node is represented as [ value ] and the links between \n",
    "    nodes are represented using the arrow '->'. The list ends with 'None' to indicate \n",
    "    the termination of the list.\n",
    "\n",
    "    Parameters:\n",
    "    -----------\n",
    "    my_linked_list : LinkedList\n",
    "        The linked list object that you want to visualize. The linked list must be \n",
    "        an instance of the LinkedList class and contain a head, tail, and nodes.\n",
    "\n",
    "    Returns:\n",
    "    --------\n",
    "    None\n",
    "        This function does not return a value. It prints the string representation \n",
    "        of the linked list directly to the console.\n",
    "\n",
    "    Example:\n",
    "    --------\n",
    "    >>> my_linked_list = LinkedList(10)\n",
    "    >>> my_linked_list.append(20)\n",
    "    >>> my_linked_list.append(30)\n",
    "    >>> visualize(my_linked_list)\n",
    "    \n",
    "    Output:\n",
    "    --------\n",
    "    [ 10 ] -> [ 20 ] -> [ 30 ] -> None\n",
    "    \"\"\"\n",
    "    current = my_linked_list.head\n",
    "    linked_list_str = \"\"\n",
    "    \n",
    "    # Traverse through the linked list until the current node is None\n",
    "    while current is not None:\n",
    "        # Add the current node's value to the string and point to the next node\n",
    "        linked_list_str += f\"[ {current.value} ] -> \"\n",
    "        current = current.next  # Move to the next node in the list\n",
    "    \n",
    "    # Indicate the end of the list with 'None'\n",
    "    linked_list_str += \"None\"\n",
    "    \n",
    "    # Print the final string representation of the linked list\n",
    "    print(linked_list_str)\n",
    "\n",
    "\n",
    "\n"
   ]
  },
  {
   "cell_type": "code",
   "execution_count": 74,
   "metadata": {},
   "outputs": [],
   "source": [
    "my_linked_list = LinkedList(value=4)"
   ]
  },
  {
   "cell_type": "code",
   "execution_count": 94,
   "metadata": {},
   "outputs": [
    {
     "name": "stdout",
     "output_type": "stream",
     "text": [
      "[ 4 ] -> [ 4 ] -> [ 4 ] -> [ 4 ] -> [ 4 ] -> None\n"
     ]
    }
   ],
   "source": [
    "my_linked_list.append(4)\n",
    "visualize(my_linked_list)"
   ]
  },
  {
   "cell_type": "code",
   "execution_count": 95,
   "metadata": {},
   "outputs": [
    {
     "name": "stdout",
     "output_type": "stream",
     "text": [
      "[ 4 ] -> [ 4 ] -> [ 4 ] -> [ 4 ] -> None\n"
     ]
    }
   ],
   "source": [
    "my_linked_list.pop()\n",
    "visualize(my_linked_list)"
   ]
  },
  {
   "cell_type": "code",
   "execution_count": 96,
   "metadata": {},
   "outputs": [
    {
     "name": "stdout",
     "output_type": "stream",
     "text": [
      "[ 4 ] -> [ 4 ] -> [ 4 ] -> None\n"
     ]
    }
   ],
   "source": [
    "my_linked_list.pop()\n",
    "visualize(my_linked_list)"
   ]
  },
  {
   "cell_type": "code",
   "execution_count": 97,
   "metadata": {},
   "outputs": [
    {
     "name": "stdout",
     "output_type": "stream",
     "text": [
      "[ 4 ] -> [ 4 ] -> None\n"
     ]
    }
   ],
   "source": [
    "my_linked_list.pop()\n",
    "visualize(my_linked_list)"
   ]
  },
  {
   "cell_type": "code",
   "execution_count": 98,
   "metadata": {},
   "outputs": [
    {
     "data": {
      "text/plain": [
       "2"
      ]
     },
     "execution_count": 98,
     "metadata": {},
     "output_type": "execute_result"
    }
   ],
   "source": [
    "my_linked_list.length"
   ]
  },
  {
   "cell_type": "code",
   "execution_count": 99,
   "metadata": {},
   "outputs": [
    {
     "name": "stdout",
     "output_type": "stream",
     "text": [
      "[ 4 ] -> [ 4 ] -> [ 4 ] -> None\n"
     ]
    }
   ],
   "source": [
    "my_linked_list.prepend(4)\n",
    "visualize(my_linked_list)"
   ]
  },
  {
   "cell_type": "code",
   "execution_count": null,
   "metadata": {},
   "outputs": [],
   "source": []
  },
  {
   "cell_type": "code",
   "execution_count": null,
   "metadata": {},
   "outputs": [],
   "source": []
  }
 ],
 "metadata": {
  "language_info": {
   "name": "python"
  }
 },
 "nbformat": 4,
 "nbformat_minor": 2
}
