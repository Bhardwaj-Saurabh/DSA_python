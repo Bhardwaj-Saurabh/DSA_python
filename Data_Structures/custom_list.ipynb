{
 "cells": [
  {
   "cell_type": "code",
   "execution_count": 1,
   "metadata": {},
   "outputs": [],
   "source": [
    "import ctypes"
   ]
  },
  {
   "cell_type": "code",
   "execution_count": 58,
   "metadata": {},
   "outputs": [],
   "source": [
    "class CustomList:\n",
    "    def __init__(self):\n",
    "        self.initial_capacity = 1 # how many items already stored\n",
    "        self.capacity = self.initial_capacity # how many is possible to store\n",
    "        self.size = 0\n",
    "        self.array = self._create_array(self.capacity)\n",
    "\n",
    "    def _create_array(self, capacity):\n",
    "        # create a new referential array given capacity\n",
    "        return (capacity * ctypes.py_object)()\n",
    "\n",
    "    def _resize(self, new_capacity):\n",
    "        new_array = self._create_array(new_capacity)\n",
    "        for i in range(self.size):\n",
    "            new_array[i] = self.array[i]\n",
    "\n",
    "        self.array = new_array\n",
    "        self.capacity = new_capacity\n",
    "\n",
    "    def append(self, item):\n",
    "        if self.size == self.capacity:\n",
    "            self._resize(2 * self.capacity)\n",
    "\n",
    "        self.array[self.size] = item\n",
    "        self.size += 1\n",
    "\n",
    "    def pop(self):\n",
    "        if self.size == 0:\n",
    "            return 'Empty List, IndexError: pop from empty list'\n",
    "\n",
    "        popped_item = self.array[self.size - 1]\n",
    "        self.size -= 1\n",
    "        return popped_item\n",
    "\n",
    "    def clear(self):\n",
    "        self.size = 0\n",
    "\n",
    "    def insert(self, index, value):\n",
    "        if self.size == self.capacity:\n",
    "            self._resize(2 * self.capacity)\n",
    "\n",
    "        for idx in range(self.size, index, -1):\n",
    "            self.array[idx] = self.array[idx-1]\n",
    "\n",
    "        self.array[index] = value\n",
    "        self.size += 1    \n",
    "\n",
    "    def remove(self, value):\n",
    "        if self.size == 0:\n",
    "            return 'Empty List, IndexError: remove from empty list'\n",
    "\n",
    "        idx_ = None\n",
    "        for idx in range(self.size):\n",
    "            if self.array[idx] == value:\n",
    "                idx_ = idx\n",
    "                break\n",
    "            \n",
    "        for idx in range(idx_, self.size-1):\n",
    "            self.array[idx] = self.array[idx+1]\n",
    "\n",
    "        self.size -= 1   \n",
    "    \n",
    "    def __str__(self):\n",
    "        output = ''\n",
    "        for i in range(self.size):\n",
    "            output = output + str(self.array[i]) + ', '\n",
    "\n",
    "        return '[' + output[:-2] + ']'\n",
    "\n",
    "    def __getitem__(self, index):\n",
    "        if index >= 0 and index < self.size:\n",
    "            return self.array[index]\n",
    "        \n",
    "        else:\n",
    "            return \"Index ErrorL Invalid index\"\n",
    "        \n",
    "    \n",
    "\n"
   ]
  },
  {
   "cell_type": "code",
   "execution_count": 59,
   "metadata": {},
   "outputs": [],
   "source": [
    "mylist = CustomList()\n",
    "mylist.append(1)\n",
    "mylist.append(2)\n",
    "mylist.append(3)\n",
    "mylist.append(4)\n",
    "mylist.append(5)\n"
   ]
  },
  {
   "cell_type": "code",
   "execution_count": 60,
   "metadata": {},
   "outputs": [
    {
     "name": "stdout",
     "output_type": "stream",
     "text": [
      "[1, 2, 3, 4, 5]\n"
     ]
    }
   ],
   "source": [
    "print(mylist)"
   ]
  },
  {
   "cell_type": "code",
   "execution_count": 61,
   "metadata": {},
   "outputs": [],
   "source": [
    "mylist.remove(3)"
   ]
  },
  {
   "cell_type": "code",
   "execution_count": 62,
   "metadata": {},
   "outputs": [
    {
     "name": "stdout",
     "output_type": "stream",
     "text": [
      "[1, 2, 4, 5]\n"
     ]
    }
   ],
   "source": [
    "print(mylist)"
   ]
  },
  {
   "cell_type": "code",
   "execution_count": 63,
   "metadata": {},
   "outputs": [
    {
     "name": "stdout",
     "output_type": "stream",
     "text": [
      "[1, 4, 5]\n"
     ]
    }
   ],
   "source": [
    "mylist.remove(2)\n",
    "print(mylist)"
   ]
  },
  {
   "cell_type": "code",
   "execution_count": 65,
   "metadata": {},
   "outputs": [
    {
     "name": "stdout",
     "output_type": "stream",
     "text": [
      "ValueError: Value is not in array\n",
      "[1, 4, 5]\n"
     ]
    }
   ],
   "source": [
    "print(mylist.remove(6))\n",
    "print(mylist)"
   ]
  },
  {
   "cell_type": "code",
   "execution_count": null,
   "metadata": {},
   "outputs": [],
   "source": []
  }
 ],
 "metadata": {
  "kernelspec": {
   "display_name": "Python 3",
   "language": "python",
   "name": "python3"
  },
  "language_info": {
   "codemirror_mode": {
    "name": "ipython",
    "version": 3
   },
   "file_extension": ".py",
   "mimetype": "text/x-python",
   "name": "python",
   "nbconvert_exporter": "python",
   "pygments_lexer": "ipython3",
   "version": "3.12.6"
  }
 },
 "nbformat": 4,
 "nbformat_minor": 2
}
