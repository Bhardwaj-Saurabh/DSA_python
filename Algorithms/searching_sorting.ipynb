{
 "cells": [
  {
   "cell_type": "markdown",
   "metadata": {},
   "source": [
    "### 1. Linear Search"
   ]
  },
  {
   "cell_type": "code",
   "execution_count": 5,
   "metadata": {},
   "outputs": [],
   "source": [
    "# linear Seach\n",
    "\n",
    "my_list = [10, 23, 45, 65, 85]\n",
    "\n",
    "target = 65"
   ]
  },
  {
   "cell_type": "code",
   "execution_count": 6,
   "metadata": {},
   "outputs": [],
   "source": [
    "def linear_search(arr, target):\n",
    "    arr_length = len(arr)\n",
    "    for idx in range(0, arr_length):\n",
    "        if arr[idx] == target:\n",
    "            return idx\n",
    "    \n",
    "    return -1"
   ]
  },
  {
   "cell_type": "code",
   "execution_count": 7,
   "metadata": {},
   "outputs": [
    {
     "name": "stdout",
     "output_type": "stream",
     "text": [
      "3\n"
     ]
    }
   ],
   "source": [
    "idx = linear_search(my_list, target)\n",
    "print(idx)"
   ]
  },
  {
   "cell_type": "markdown",
   "metadata": {},
   "source": [
    "### 2. Binary Search\n",
    "\n",
    "BS can only be applied for sorted arrays"
   ]
  },
  {
   "cell_type": "code",
   "execution_count": 11,
   "metadata": {},
   "outputs": [],
   "source": [
    "bs_array = [10,12,56,67,89,90]\n",
    "\n",
    "bs_target = 89"
   ]
  },
  {
   "cell_type": "code",
   "execution_count": 17,
   "metadata": {},
   "outputs": [],
   "source": [
    "def binary_search(arr, target):\n",
    "    arr_length = len(arr)\n",
    "\n",
    "    start = 0\n",
    "    end = arr_length - 1\n",
    "\n",
    "    while start <= end:\n",
    "        mid = (start+end)//2\n",
    "\n",
    "        if arr[mid] == target:\n",
    "            return mid\n",
    "        elif arr[mid] < target:\n",
    "            start = mid + 1\n",
    "        elif arr[mid] > target:\n",
    "            end = mid - 1\n",
    "\n",
    "    return -1\n"
   ]
  },
  {
   "cell_type": "code",
   "execution_count": 21,
   "metadata": {},
   "outputs": [
    {
     "name": "stdout",
     "output_type": "stream",
     "text": [
      "1\n"
     ]
    }
   ],
   "source": [
    "bs_idx = binary_search(bs_array, 12)\n",
    "print(bs_idx)"
   ]
  },
  {
   "cell_type": "markdown",
   "metadata": {},
   "source": [
    "### 3. Bubble Sort"
   ]
  },
  {
   "cell_type": "code",
   "execution_count": 89,
   "metadata": {},
   "outputs": [],
   "source": [
    "# def bubble_sort(arr):\n",
    "\n",
    "#     arr_length = len(arr)\n",
    "\n",
    "#     counter = 0\n",
    "#     while counter < arr_length:\n",
    "#         for idx in range(arr_length-counter-1):\n",
    "#             if arr[idx] > arr[idx + 1]:\n",
    "#                 temp = arr[idx]\n",
    "#                 arr[idx] = arr[idx+1]\n",
    "#                 arr[idx+1] = temp\n",
    "#         counter = counter + 1\n",
    "#     return arr\n",
    "\n",
    "\n",
    "def bubble_sort(arr):\n",
    "\n",
    "    arr_length = len(arr)\n",
    "\n",
    "    for counter in range(arr_length):\n",
    "        for idx in range(arr_length-counter-1):\n",
    "            if arr[idx] > arr[idx + 1]:\n",
    "                temp = arr[idx]\n",
    "                arr[idx] = arr[idx+1]\n",
    "                arr[idx+1] = temp\n",
    "    return arr\n",
    "\n"
   ]
  },
  {
   "cell_type": "code",
   "execution_count": 128,
   "metadata": {},
   "outputs": [],
   "source": [
    "bsort_arr = [64, 34, 25, 12, 22, 11, 90]\n",
    "\n",
    "bsort_arr = [6,5,4,3,2,1,0]"
   ]
  },
  {
   "cell_type": "code",
   "execution_count": 129,
   "metadata": {},
   "outputs": [
    {
     "name": "stdout",
     "output_type": "stream",
     "text": [
      "[0, 1, 2, 3, 4, 5, 6]\n"
     ]
    }
   ],
   "source": [
    "bs = bubble_sort(bsort_arr)\n",
    "\n",
    "print(bs)"
   ]
  },
  {
   "cell_type": "markdown",
   "metadata": {},
   "source": [
    "### 4. Selection Sort"
   ]
  },
  {
   "cell_type": "code",
   "execution_count": 123,
   "metadata": {},
   "outputs": [],
   "source": [
    "def selection_sort(arr):\n",
    "\n",
    "    arr_length = len(arr)\n",
    "\n",
    "    for idx_i in range(arr_length-1):\n",
    "        min_idx = idx_i\n",
    "        for idx_j in range(idx_i+1, arr_length):\n",
    "            if arr[idx_j] < arr[min_idx]:\n",
    "                min_idx = idx_j\n",
    "        arr[idx_i], arr[min_idx] = arr[min_idx], arr[idx_i]\n",
    "    return arr\n"
   ]
  },
  {
   "cell_type": "code",
   "execution_count": 127,
   "metadata": {},
   "outputs": [
    {
     "name": "stdout",
     "output_type": "stream",
     "text": [
      "[0, 1, 2, 3, 4, 5, 6]\n"
     ]
    }
   ],
   "source": [
    "ssort_arr = [64, 34, 25, 12, 22, 11, 90]\n",
    "ssort_arr = [6,5,4,3,2,1,0]\n",
    "s_arr = selection_sort(ssort_arr)\n",
    "\n",
    "print(s_arr)\n"
   ]
  },
  {
   "cell_type": "markdown",
   "metadata": {},
   "source": [
    "### 5. Insertion Sort"
   ]
  },
  {
   "cell_type": "code",
   "execution_count": null,
   "metadata": {},
   "outputs": [],
   "source": [
    "def insertion_sort(arr):\n",
    "\n",
    "    arr_length = len(arr)\n",
    "\n",
    "    for idx_i in range(arr_length-1):\n",
    "        min_idx = idx_i\n",
    "        for idx_j in range(idx_i+1, arr_length):\n",
    "            if arr[idx_j] < arr[min_idx]:\n",
    "                min_idx = idx_j\n",
    "        arr[idx_i], arr[min_idx] = arr[min_idx], arr[idx_i]\n",
    "    return arr"
   ]
  }
 ],
 "metadata": {
  "kernelspec": {
   "display_name": "Python 3",
   "language": "python",
   "name": "python3"
  },
  "language_info": {
   "codemirror_mode": {
    "name": "ipython",
    "version": 3
   },
   "file_extension": ".py",
   "mimetype": "text/x-python",
   "name": "python",
   "nbconvert_exporter": "python",
   "pygments_lexer": "ipython3",
   "version": "3.12.6"
  }
 },
 "nbformat": 4,
 "nbformat_minor": 2
}
